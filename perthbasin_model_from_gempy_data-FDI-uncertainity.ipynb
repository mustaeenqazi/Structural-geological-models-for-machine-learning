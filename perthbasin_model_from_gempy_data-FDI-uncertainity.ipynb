{
 "cells": [
  {
   "cell_type": "code",
   "execution_count": null,
   "metadata": {},
   "outputs": [],
   "source": [
    "%matplotlib inline"
   ]
  },
  {
   "cell_type": "code",
   "execution_count": null,
   "metadata": {},
   "outputs": [],
   "source": [
    "from LoopStructural import GeologicalModel\n",
    "from LoopStructural.visualisation import LavaVuModelViewer\n",
    "from LoopStructural.datasets import load_claudius #demo data\n",
    "\n",
    "import pandas as pd\n",
    "import glob\n",
    "import numpy as np\n",
    "#import surfe"
   ]
  },
  {
   "cell_type": "code",
   "execution_count": null,
   "metadata": {},
   "outputs": [],
   "source": []
  },
  {
   "cell_type": "code",
   "execution_count": null,
   "metadata": {},
   "outputs": [],
   "source": [
    "data = pd.read_excel(r'C:\\Users\\ASUS\\Desktop\\loopstructural\\data perthbasin\\without_coord\\perthbasin.xlsx')"
   ]
  },
  {
   "cell_type": "code",
   "execution_count": null,
   "metadata": {},
   "outputs": [],
   "source": [
    "data = data.rename(columns={'azimuth': 'strike', 'formation': 'feature_name'})"
   ]
  },
  {
   "cell_type": "code",
   "execution_count": null,
   "metadata": {},
   "outputs": [],
   "source": [
    "print(data)"
   ]
  },
  {
   "cell_type": "code",
   "execution_count": null,
   "metadata": {},
   "outputs": [],
   "source": [
    "data_claudius, bb_claudius = load_claudius()"
   ]
  },
  {
   "cell_type": "code",
   "execution_count": null,
   "metadata": {},
   "outputs": [],
   "source": [
    "print(bb_claudius)"
   ]
  },
  {
   "cell_type": "code",
   "execution_count": null,
   "metadata": {},
   "outputs": [],
   "source": [
    "##extent_of_model = np.array([[ 340944.288072, 6637386.,  -7357.485252],\n",
    "## [ 393936.142320,  6693633.,   957.702303]])\n",
    "\n",
    "extent_of_model= np.array([[337000,6640000,-18000],  ##taken from extent of model in gempy\n",
    "[400000,6710000,1000]])\n"
   ]
  },
  {
   "cell_type": "code",
   "execution_count": null,
   "metadata": {},
   "outputs": [],
   "source": [
    "print(extent_of_model[0,:])"
   ]
  },
  {
   "cell_type": "code",
   "execution_count": null,
   "metadata": {},
   "outputs": [],
   "source": [
    "print(extent_of_model[1,:])"
   ]
  },
  {
   "cell_type": "code",
   "execution_count": null,
   "metadata": {},
   "outputs": [],
   "source": []
  },
  {
   "cell_type": "code",
   "execution_count": null,
   "metadata": {},
   "outputs": [],
   "source": [
    "data['feature_name'].unique()\n",
    "\n",
    "viewer = LavaVuModelViewer(background='white')\n",
    "viewer.add_value_data(data[~np.isnan(data['val'])][['X','Y','Z']],data[~np.isnan(data['val'])]['val'],name='value points')\n",
    "viewer.add_vector_data(data[~np.isnan(data['dip'])][['X','Y','Z']],\n",
    "                       data[~np.isnan(data['strike'])][['X','Y','Z']],name='orientation points')\n",
    "viewer.rotate([-85.18760681152344, 42.93233871459961, 0.8641873002052307])\n",
    "viewer.display()"
   ]
  },
  {
   "cell_type": "code",
   "execution_count": null,
   "metadata": {},
   "outputs": [],
   "source": [
    "\n",
    "\n",
    "model = GeologicalModel(extent_of_model[0,:],extent_of_model[1,:])\n",
    "model.set_model_data(data)\n",
    "\n",
    "\n",
    "\n",
    "\n",
    "formation_Permian = model.create_and_add_foliation('Permian',\n",
    "                              interpolatortype='FDI',\n",
    "                               nelements=1e4,\n",
    "                               solver='pyamg'\n",
    "                              )\n",
    "\n",
    "#uc = model.add_unconformity(formation_Permian,1)\n",
    "\n",
    "\n",
    "\n",
    "\n",
    "\n",
    "\n",
    "formation_Cretaceous   =    model.create_and_add_foliation('Cretaceous',\n",
    "                              interpolatortype='FDI',\n",
    "                               nelements=1e4,\n",
    "                               solver='pyamg'\n",
    "                              )\n",
    "\n",
    "\n",
    "\n",
    "\n",
    "\n",
    "formation_Yarragadee  =    model.create_and_add_foliation('Yarragadee',\n",
    "                              interpolatortype='FDI',\n",
    "                               nelements=1e4,\n",
    "                               solver='pyamg'\n",
    "                              )\n",
    "\n",
    "\n",
    "\n",
    "formation_Lesueur   =     model.create_and_add_foliation('Lesueur',\n",
    "                              interpolatortype='FDI',\n",
    "                               nelements=1e4,\n",
    "                               solver='pyamg'\n",
    "                              )\n",
    "\n",
    "\n",
    "\n",
    "\n",
    "formation_Eneabba   =   model.create_and_add_foliation('Eneabba',\n",
    "                              interpolatortype='FDI',\n",
    "                               nelements=1e4,\n",
    "                               solver='pyamg'\n",
    "                              )\n",
    "\n",
    "\n",
    "\n",
    "\n",
    "model.update()\n"
   ]
  },
  {
   "cell_type": "code",
   "execution_count": null,
   "metadata": {},
   "outputs": [],
   "source": [
    "#model.update()\n",
    "\n",
    "viewer = LavaVuModelViewer(model)\n",
    "\n",
    "\n",
    "viewer.add_isosurface(formation_Permian,\n",
    "#                       nslices=5\n",
    "                     colour = 'blue'\n",
    "                     ) ##slices=[2,1.5,1],\n",
    "\n",
    "\n",
    "\n",
    "\n",
    "\n",
    "viewer.add_isosurface(formation_Cretaceous,\n",
    "#                       nslices=5,\n",
    "                      colour = 'red'\n",
    "                     )\n",
    "\n",
    "\n",
    "viewer.add_isosurface(formation_Yarragadee,\n",
    "#                       nslices=5\n",
    "                   colour = 'yellow'\n",
    "                  )\n",
    "\n",
    "\n",
    "viewer.add_isosurface(formation_Lesueur,\n",
    "#                       nslices=5\n",
    "                      colour = 'brown'\n",
    "                     )\n",
    "\n",
    "\n",
    "\n",
    "viewer.add_isosurface(formation_Eneabba,\n",
    "#                       nslices=5\n",
    "                      \n",
    "                     paint_with=formation_Eneabba)\n",
    "\n",
    "\n",
    "viewer.rotate([-85.18760681152344, -42.93233871459961, 0.8641873002052307])\n",
    "viewer.display()\n"
   ]
  },
  {
   "cell_type": "code",
   "execution_count": null,
   "metadata": {},
   "outputs": [],
   "source": [
    "viewer.rotate([-175.18760681152344, -42.93233871459961, 0.8641873002052307])\n",
    "viewer.display()"
   ]
  },
  {
   "cell_type": "code",
   "execution_count": null,
   "metadata": {},
   "outputs": [],
   "source": [
    "viewer.rotate([85.18760681152344, -42.93233871459961, -0.8641873002052307])\n",
    "viewer.display()"
   ]
  },
  {
   "cell_type": "code",
   "execution_count": null,
   "metadata": {},
   "outputs": [],
   "source": [
    "viewer.rotate([85.18760681152344, -42.93233871459961, 0.8641873002052307])\n",
    "viewer.display()"
   ]
  },
  {
   "cell_type": "code",
   "execution_count": null,
   "metadata": {},
   "outputs": [],
   "source": [
    "viewer.rotate([-85.18760681152344, -42.93233871459961, -0.8641873002052307])\n",
    "viewer.display()"
   ]
  },
  {
   "cell_type": "code",
   "execution_count": null,
   "metadata": {},
   "outputs": [],
   "source": [
    "def view_model(model):\n",
    "    \n",
    "    viewer = LavaVuModelViewer(model)\n",
    "\n",
    "\n",
    "    viewer.add_isosurface(formation_Permian,\n",
    "#                       nslices=5\n",
    "                     colour = 'blue'\n",
    "                     ) ##slices=[2,1.5,1],\n",
    "\n",
    "\n",
    "\n",
    "\n",
    "\n",
    "    viewer.add_isosurface(formation_Cretaceous,\n",
    "#                       nslices=5,\n",
    "                      colour = 'red'\n",
    "                     )\n",
    "\n",
    "\n",
    "    viewer.add_isosurface(formation_Yarragadee,\n",
    "#                       nslices=5\n",
    "                   colour = 'yellow'\n",
    "                  )\n",
    "\n",
    "\n",
    "    viewer.add_isosurface(formation_Lesueur,\n",
    "#                       nslices=5\n",
    "                      colour = 'brown'\n",
    "                     )\n",
    "\n",
    "\n",
    "\n",
    "    viewer.add_isosurface(formation_Eneabba,\n",
    "#                       nslices=5\n",
    "                      \n",
    "                     paint_with=formation_Eneabba)\n",
    "\n",
    "\n",
    "    viewer.rotate([-85.18760681152344, -42.93233871459961, 0.8641873002052307])\n",
    "    viewer.display()\n",
    "    \n",
    "    return"
   ]
  },
  {
   "cell_type": "code",
   "execution_count": null,
   "metadata": {},
   "outputs": [],
   "source": [
    "import pickle\n",
    "#approach one\n",
    "#assign uncertainty by looping through surfaces\n",
    "surfaces = np.unique(data['feature_name'])\n",
    "\n",
    "#mode = 1 -> uncertainties in x,y,z\n",
    "#mode = 2 -> uncertainties in orientations\n",
    "#mode = 3 -> combination\n",
    "\n",
    "n_iterations = 6\n",
    "np.random.seed(3)\n",
    "lith_blocks = np.array([])\n",
    "\n",
    "for iteration in range(n_iterations):\n",
    "    for surf in surfaces:\n",
    "        variance_z = np.random.normal(-100,100)\n",
    "        variance_x = np.random.normal(-100,100)\n",
    "        variance_y = np.random.normal(-100,100)\n",
    "        data['Z'][data['feature_name'] == surf] = data['Z'][data['feature_name'] == surf] + variance_z\n",
    "        data['X'][data['feature_name'] == surf] = data['X'][data['feature_name'] == surf] + variance_x\n",
    "        data['Y'][data['feature_name'] == surf] = data['Y'][data['feature_name'] == surf] + variance_y\n",
    "    \n",
    "    \n",
    "\n",
    "    \n",
    "\n",
    "    #fault_displacement = 500\n",
    "\n",
    "    model = GeologicalModel(extent_of_model[0,:],extent_of_model[1,:])\n",
    "    model.set_model_data(data)\n",
    "\n",
    "\n",
    "    \n",
    "\n",
    "    formation_Permian = model.create_and_add_foliation('Permian',\n",
    "                              interpolatortype='PLI',\n",
    "                               nelements=1e4,\n",
    "                               solver='pyamg'\n",
    "                              )\n",
    "\n",
    "     #uc = model.add_unconformity(formation_Permian,1)\n",
    "\n",
    "\n",
    "\n",
    "\n",
    "    \n",
    "\n",
    "\n",
    "\n",
    "    formation_Cretaceous   =    model.create_and_add_foliation('Cretaceous',\n",
    "                              interpolatortype='PLI',\n",
    "                               nelements=1e4,\n",
    "                               solver='pyamg'\n",
    "                              )\n",
    "\n",
    "\n",
    "   \n",
    "\n",
    "\n",
    "    formation_Yarragadee  =    model.create_and_add_foliation('Yarragadee',\n",
    "                              interpolatortype='PLI',\n",
    "                               nelements=1e4,\n",
    "                               solver='pyamg'\n",
    "                              )\n",
    "\n",
    "   \n",
    "\n",
    "\n",
    "    formation_Lesueur   =     model.create_and_add_foliation('Lesueur',\n",
    "                              interpolatortype='PLI',\n",
    "                               nelements=1e4,\n",
    "                               solver='pyamg'\n",
    "                              )\n",
    "\n",
    "\n",
    "    \n",
    "\n",
    "\n",
    "    formation_Eneabba   =   model.create_and_add_foliation('Eneabba',\n",
    "                              interpolatortype='PLI',\n",
    "                               nelements=1e4,\n",
    "                               solver='pyamg'\n",
    "                              )\n",
    "\n",
    "    \n",
    "    \n",
    "    model_new = model\n",
    "    \n",
    "    view_model(model_new)\n",
    "   # file_to_store = open(f\"{iteration}.pickle\", \"wb\")\n",
    "   # pickle.dump(model_new, file_to_store)\n",
    "   # file_to_store.close()\n",
    "  "
   ]
  },
  {
   "cell_type": "code",
   "execution_count": null,
   "metadata": {},
   "outputs": [],
   "source": []
  }
 ],
 "metadata": {
  "kernelspec": {
   "display_name": "Python 3",
   "language": "python",
   "name": "python3"
  },
  "language_info": {
   "codemirror_mode": {
    "name": "ipython",
    "version": 3
   },
   "file_extension": ".py",
   "mimetype": "text/x-python",
   "name": "python",
   "nbconvert_exporter": "python",
   "pygments_lexer": "ipython3",
   "version": "3.7.7"
  }
 },
 "nbformat": 4,
 "nbformat_minor": 4
}
