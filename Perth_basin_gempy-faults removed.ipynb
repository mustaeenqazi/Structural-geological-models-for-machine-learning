{
 "cells": [
  {
   "cell_type": "code",
   "execution_count": 1,
   "metadata": {},
   "outputs": [],
   "source": [
    "%matplotlib inline\n",
    "from pyvista import set_plot_theme\n",
    "set_plot_theme('document')"
   ]
  },
  {
   "cell_type": "markdown",
   "metadata": {},
   "source": [
    "\n",
    "# Perth basin.\n"
   ]
  },
  {
   "cell_type": "code",
   "execution_count": 2,
   "metadata": {},
   "outputs": [
    {
     "name": "stderr",
     "output_type": "stream",
     "text": [
      "WARNING (theano.configdefaults): g++ not available, if using conda: `conda install m2w64-toolchain`\n",
      "C:\\Users\\ASUS\\AppData\\Local\\conda\\conda\\envs\\tf\\lib\\site-packages\\theano\\configdefaults.py:560: UserWarning: DeprecationWarning: there is no c++ compiler.This is deprecated and with Theano 0.11 a c++ compiler will be mandatory\n",
      "  warnings.warn(\"DeprecationWarning: there is no c++ compiler.\"\n",
      "WARNING (theano.configdefaults): g++ not detected ! Theano will be unable to execute optimized C-implementations (for both CPU and GPU) and will default to Python implementations. Performance will be severely degraded. To remove this warning, set Theano flags cxx to an empty string.\n",
      "WARNING (theano.tensor.blas): Using NumPy C-API based implementation for BLAS functions.\n"
     ]
    }
   ],
   "source": [
    "import os\n",
    "\n",
    "# Importing GemPy\n",
    "import gempy as gp\n",
    "\n",
    "# Importing auxiliary libraries\n",
    "import matplotlib\n",
    "matplotlib.rcParams['figure.figsize'] = (20.0, 10.0)\n",
    "os.environ[\"THEANO_FLAGS\"] = \"mode=FAST_RUN,device=cuda\""
   ]
  },
  {
   "cell_type": "code",
   "execution_count": 3,
   "metadata": {},
   "outputs": [],
   "source": [
    "data_path = 'https://raw.githubusercontent.com/cgre-aachen/gempy_data/master/'\n",
    "geo_model = gp.create_model('Perth_Basin')"
   ]
  },
  {
   "cell_type": "code",
   "execution_count": 4,
   "metadata": {},
   "outputs": [
    {
     "name": "stdout",
     "output_type": "stream",
     "text": [
      "Active grids: ['regular']\n"
     ]
    },
    {
     "data": {
      "text/plain": [
       "Perth_Basin  2021-10-10 16:44"
      ]
     },
     "execution_count": 4,
     "metadata": {},
     "output_type": "execute_result"
    }
   ],
   "source": [
    "gp.init_data(geo_model,\n",
    "             extent=[337000, 400000, 6640000, 6710000, -18000, 1000],\n",
    "             resolution=[100, 100, 100],\n",
    "             path_i=data_path + \"/data/input_data/Perth_basin/Paper_GU2F_sc_faults_topo_Points.csv\",\n",
    "             path_o=data_path + \"/data/input_data/Perth_basin/Paper_GU2F_sc_faults_topo_Foliations.csv\")"
   ]
  },
  {
   "cell_type": "code",
   "execution_count": 5,
   "metadata": {},
   "outputs": [
    {
     "data": {
      "text/html": [
       "<style  type=\"text/css\" >\n",
       "    #T_86b73c10_29d8_11ec_b8fe_020136343133row0_col3 {\n",
       "            background-color:  #015482;\n",
       "        }    #T_86b73c10_29d8_11ec_b8fe_020136343133row1_col3 {\n",
       "            background-color:  #9f0052;\n",
       "        }    #T_86b73c10_29d8_11ec_b8fe_020136343133row2_col3 {\n",
       "            background-color:  #ffbe00;\n",
       "        }    #T_86b73c10_29d8_11ec_b8fe_020136343133row3_col3 {\n",
       "            background-color:  #728f02;\n",
       "        }    #T_86b73c10_29d8_11ec_b8fe_020136343133row4_col3 {\n",
       "            background-color:  #443988;\n",
       "        }    #T_86b73c10_29d8_11ec_b8fe_020136343133row5_col3 {\n",
       "            background-color:  #ff3f20;\n",
       "        }    #T_86b73c10_29d8_11ec_b8fe_020136343133row6_col3 {\n",
       "            background-color:  #5DA629;\n",
       "        }    #T_86b73c10_29d8_11ec_b8fe_020136343133row7_col3 {\n",
       "            background-color:  #4878d0;\n",
       "        }    #T_86b73c10_29d8_11ec_b8fe_020136343133row8_col3 {\n",
       "            background-color:  #ee854a;\n",
       "        }    #T_86b73c10_29d8_11ec_b8fe_020136343133row9_col3 {\n",
       "            background-color:  #6acc64;\n",
       "        }    #T_86b73c10_29d8_11ec_b8fe_020136343133row10_col3 {\n",
       "            background-color:  #d65f5f;\n",
       "        }    #T_86b73c10_29d8_11ec_b8fe_020136343133row11_col3 {\n",
       "            background-color:  #956cb4;\n",
       "        }    #T_86b73c10_29d8_11ec_b8fe_020136343133row12_col3 {\n",
       "            background-color:  #8c613c;\n",
       "        }    #T_86b73c10_29d8_11ec_b8fe_020136343133row13_col3 {\n",
       "            background-color:  #dc7ec0;\n",
       "        }    #T_86b73c10_29d8_11ec_b8fe_020136343133row14_col3 {\n",
       "            background-color:  #797979;\n",
       "        }    #T_86b73c10_29d8_11ec_b8fe_020136343133row15_col3 {\n",
       "            background-color:  #d5bb67;\n",
       "        }    #T_86b73c10_29d8_11ec_b8fe_020136343133row16_col3 {\n",
       "            background-color:  #82c6e2;\n",
       "        }</style><table id=\"T_86b73c10_29d8_11ec_b8fe_020136343133\" ><thead>    <tr>        <th class=\"blank level0\" ></th>        <th class=\"col_heading level0 col0\" >surface</th>        <th class=\"col_heading level0 col1\" >series</th>        <th class=\"col_heading level0 col2\" >order_surfaces</th>        <th class=\"col_heading level0 col3\" >color</th>        <th class=\"col_heading level0 col4\" >id</th>    </tr></thead><tbody>\n",
       "                <tr>\n",
       "                        <th id=\"T_86b73c10_29d8_11ec_b8fe_020136343133level0_row0\" class=\"row_heading level0 row0\" >0</th>\n",
       "                        <td id=\"T_86b73c10_29d8_11ec_b8fe_020136343133row0_col0\" class=\"data row0 col0\" >Lesueur</td>\n",
       "                        <td id=\"T_86b73c10_29d8_11ec_b8fe_020136343133row0_col1\" class=\"data row0 col1\" >Default series</td>\n",
       "                        <td id=\"T_86b73c10_29d8_11ec_b8fe_020136343133row0_col2\" class=\"data row0 col2\" >1</td>\n",
       "                        <td id=\"T_86b73c10_29d8_11ec_b8fe_020136343133row0_col3\" class=\"data row0 col3\" >#015482</td>\n",
       "                        <td id=\"T_86b73c10_29d8_11ec_b8fe_020136343133row0_col4\" class=\"data row0 col4\" >1</td>\n",
       "            </tr>\n",
       "            <tr>\n",
       "                        <th id=\"T_86b73c10_29d8_11ec_b8fe_020136343133level0_row1\" class=\"row_heading level0 row1\" >1</th>\n",
       "                        <td id=\"T_86b73c10_29d8_11ec_b8fe_020136343133row1_col0\" class=\"data row1 col0\" >Permian</td>\n",
       "                        <td id=\"T_86b73c10_29d8_11ec_b8fe_020136343133row1_col1\" class=\"data row1 col1\" >Default series</td>\n",
       "                        <td id=\"T_86b73c10_29d8_11ec_b8fe_020136343133row1_col2\" class=\"data row1 col2\" >2</td>\n",
       "                        <td id=\"T_86b73c10_29d8_11ec_b8fe_020136343133row1_col3\" class=\"data row1 col3\" >#9f0052</td>\n",
       "                        <td id=\"T_86b73c10_29d8_11ec_b8fe_020136343133row1_col4\" class=\"data row1 col4\" >2</td>\n",
       "            </tr>\n",
       "            <tr>\n",
       "                        <th id=\"T_86b73c10_29d8_11ec_b8fe_020136343133level0_row2\" class=\"row_heading level0 row2\" >2</th>\n",
       "                        <td id=\"T_86b73c10_29d8_11ec_b8fe_020136343133row2_col0\" class=\"data row2 col0\" >Woodada_Kockatea</td>\n",
       "                        <td id=\"T_86b73c10_29d8_11ec_b8fe_020136343133row2_col1\" class=\"data row2 col1\" >Default series</td>\n",
       "                        <td id=\"T_86b73c10_29d8_11ec_b8fe_020136343133row2_col2\" class=\"data row2 col2\" >3</td>\n",
       "                        <td id=\"T_86b73c10_29d8_11ec_b8fe_020136343133row2_col3\" class=\"data row2 col3\" >#ffbe00</td>\n",
       "                        <td id=\"T_86b73c10_29d8_11ec_b8fe_020136343133row2_col4\" class=\"data row2 col4\" >3</td>\n",
       "            </tr>\n",
       "            <tr>\n",
       "                        <th id=\"T_86b73c10_29d8_11ec_b8fe_020136343133level0_row3\" class=\"row_heading level0 row3\" >3</th>\n",
       "                        <td id=\"T_86b73c10_29d8_11ec_b8fe_020136343133row3_col0\" class=\"data row3 col0\" >Yarragadee</td>\n",
       "                        <td id=\"T_86b73c10_29d8_11ec_b8fe_020136343133row3_col1\" class=\"data row3 col1\" >Default series</td>\n",
       "                        <td id=\"T_86b73c10_29d8_11ec_b8fe_020136343133row3_col2\" class=\"data row3 col2\" >4</td>\n",
       "                        <td id=\"T_86b73c10_29d8_11ec_b8fe_020136343133row3_col3\" class=\"data row3 col3\" >#728f02</td>\n",
       "                        <td id=\"T_86b73c10_29d8_11ec_b8fe_020136343133row3_col4\" class=\"data row3 col4\" >4</td>\n",
       "            </tr>\n",
       "            <tr>\n",
       "                        <th id=\"T_86b73c10_29d8_11ec_b8fe_020136343133level0_row4\" class=\"row_heading level0 row4\" >4</th>\n",
       "                        <td id=\"T_86b73c10_29d8_11ec_b8fe_020136343133row4_col0\" class=\"data row4 col0\" >Eneabba</td>\n",
       "                        <td id=\"T_86b73c10_29d8_11ec_b8fe_020136343133row4_col1\" class=\"data row4 col1\" >Default series</td>\n",
       "                        <td id=\"T_86b73c10_29d8_11ec_b8fe_020136343133row4_col2\" class=\"data row4 col2\" >5</td>\n",
       "                        <td id=\"T_86b73c10_29d8_11ec_b8fe_020136343133row4_col3\" class=\"data row4 col3\" >#443988</td>\n",
       "                        <td id=\"T_86b73c10_29d8_11ec_b8fe_020136343133row4_col4\" class=\"data row4 col4\" >5</td>\n",
       "            </tr>\n",
       "            <tr>\n",
       "                        <th id=\"T_86b73c10_29d8_11ec_b8fe_020136343133level0_row5\" class=\"row_heading level0 row5\" >5</th>\n",
       "                        <td id=\"T_86b73c10_29d8_11ec_b8fe_020136343133row5_col0\" class=\"data row5 col0\" >Cattamarra</td>\n",
       "                        <td id=\"T_86b73c10_29d8_11ec_b8fe_020136343133row5_col1\" class=\"data row5 col1\" >Default series</td>\n",
       "                        <td id=\"T_86b73c10_29d8_11ec_b8fe_020136343133row5_col2\" class=\"data row5 col2\" >6</td>\n",
       "                        <td id=\"T_86b73c10_29d8_11ec_b8fe_020136343133row5_col3\" class=\"data row5 col3\" >#ff3f20</td>\n",
       "                        <td id=\"T_86b73c10_29d8_11ec_b8fe_020136343133row5_col4\" class=\"data row5 col4\" >6</td>\n",
       "            </tr>\n",
       "            <tr>\n",
       "                        <th id=\"T_86b73c10_29d8_11ec_b8fe_020136343133level0_row6\" class=\"row_heading level0 row6\" >6</th>\n",
       "                        <td id=\"T_86b73c10_29d8_11ec_b8fe_020136343133row6_col0\" class=\"data row6 col0\" >Cadda</td>\n",
       "                        <td id=\"T_86b73c10_29d8_11ec_b8fe_020136343133row6_col1\" class=\"data row6 col1\" >Default series</td>\n",
       "                        <td id=\"T_86b73c10_29d8_11ec_b8fe_020136343133row6_col2\" class=\"data row6 col2\" >7</td>\n",
       "                        <td id=\"T_86b73c10_29d8_11ec_b8fe_020136343133row6_col3\" class=\"data row6 col3\" >#5DA629</td>\n",
       "                        <td id=\"T_86b73c10_29d8_11ec_b8fe_020136343133row6_col4\" class=\"data row6 col4\" >7</td>\n",
       "            </tr>\n",
       "            <tr>\n",
       "                        <th id=\"T_86b73c10_29d8_11ec_b8fe_020136343133level0_row7\" class=\"row_heading level0 row7\" >7</th>\n",
       "                        <td id=\"T_86b73c10_29d8_11ec_b8fe_020136343133row7_col0\" class=\"data row7 col0\" >Cretaceous</td>\n",
       "                        <td id=\"T_86b73c10_29d8_11ec_b8fe_020136343133row7_col1\" class=\"data row7 col1\" >Default series</td>\n",
       "                        <td id=\"T_86b73c10_29d8_11ec_b8fe_020136343133row7_col2\" class=\"data row7 col2\" >8</td>\n",
       "                        <td id=\"T_86b73c10_29d8_11ec_b8fe_020136343133row7_col3\" class=\"data row7 col3\" >#4878d0</td>\n",
       "                        <td id=\"T_86b73c10_29d8_11ec_b8fe_020136343133row7_col4\" class=\"data row7 col4\" >8</td>\n",
       "            </tr>\n",
       "            <tr>\n",
       "                        <th id=\"T_86b73c10_29d8_11ec_b8fe_020136343133level0_row8\" class=\"row_heading level0 row8\" >8</th>\n",
       "                        <td id=\"T_86b73c10_29d8_11ec_b8fe_020136343133row8_col0\" class=\"data row8 col0\" >Darling</td>\n",
       "                        <td id=\"T_86b73c10_29d8_11ec_b8fe_020136343133row8_col1\" class=\"data row8 col1\" >Default series</td>\n",
       "                        <td id=\"T_86b73c10_29d8_11ec_b8fe_020136343133row8_col2\" class=\"data row8 col2\" >9</td>\n",
       "                        <td id=\"T_86b73c10_29d8_11ec_b8fe_020136343133row8_col3\" class=\"data row8 col3\" >#ee854a</td>\n",
       "                        <td id=\"T_86b73c10_29d8_11ec_b8fe_020136343133row8_col4\" class=\"data row8 col4\" >9</td>\n",
       "            </tr>\n",
       "            <tr>\n",
       "                        <th id=\"T_86b73c10_29d8_11ec_b8fe_020136343133level0_row9\" class=\"row_heading level0 row9\" >9</th>\n",
       "                        <td id=\"T_86b73c10_29d8_11ec_b8fe_020136343133row9_col0\" class=\"data row9 col0\" >Urella_North</td>\n",
       "                        <td id=\"T_86b73c10_29d8_11ec_b8fe_020136343133row9_col1\" class=\"data row9 col1\" >Default series</td>\n",
       "                        <td id=\"T_86b73c10_29d8_11ec_b8fe_020136343133row9_col2\" class=\"data row9 col2\" >10</td>\n",
       "                        <td id=\"T_86b73c10_29d8_11ec_b8fe_020136343133row9_col3\" class=\"data row9 col3\" >#6acc64</td>\n",
       "                        <td id=\"T_86b73c10_29d8_11ec_b8fe_020136343133row9_col4\" class=\"data row9 col4\" >10</td>\n",
       "            </tr>\n",
       "            <tr>\n",
       "                        <th id=\"T_86b73c10_29d8_11ec_b8fe_020136343133level0_row10\" class=\"row_heading level0 row10\" >10</th>\n",
       "                        <td id=\"T_86b73c10_29d8_11ec_b8fe_020136343133row10_col0\" class=\"data row10 col0\" >Eneabba_South</td>\n",
       "                        <td id=\"T_86b73c10_29d8_11ec_b8fe_020136343133row10_col1\" class=\"data row10 col1\" >Default series</td>\n",
       "                        <td id=\"T_86b73c10_29d8_11ec_b8fe_020136343133row10_col2\" class=\"data row10 col2\" >11</td>\n",
       "                        <td id=\"T_86b73c10_29d8_11ec_b8fe_020136343133row10_col3\" class=\"data row10 col3\" >#d65f5f</td>\n",
       "                        <td id=\"T_86b73c10_29d8_11ec_b8fe_020136343133row10_col4\" class=\"data row10 col4\" >11</td>\n",
       "            </tr>\n",
       "            <tr>\n",
       "                        <th id=\"T_86b73c10_29d8_11ec_b8fe_020136343133level0_row11\" class=\"row_heading level0 row11\" >11</th>\n",
       "                        <td id=\"T_86b73c10_29d8_11ec_b8fe_020136343133row11_col0\" class=\"data row11 col0\" >Coomallo</td>\n",
       "                        <td id=\"T_86b73c10_29d8_11ec_b8fe_020136343133row11_col1\" class=\"data row11 col1\" >Default series</td>\n",
       "                        <td id=\"T_86b73c10_29d8_11ec_b8fe_020136343133row11_col2\" class=\"data row11 col2\" >12</td>\n",
       "                        <td id=\"T_86b73c10_29d8_11ec_b8fe_020136343133row11_col3\" class=\"data row11 col3\" >#956cb4</td>\n",
       "                        <td id=\"T_86b73c10_29d8_11ec_b8fe_020136343133row11_col4\" class=\"data row11 col4\" >12</td>\n",
       "            </tr>\n",
       "            <tr>\n",
       "                        <th id=\"T_86b73c10_29d8_11ec_b8fe_020136343133level0_row12\" class=\"row_heading level0 row12\" >12</th>\n",
       "                        <td id=\"T_86b73c10_29d8_11ec_b8fe_020136343133row12_col0\" class=\"data row12 col0\" >Hypo_fault_E</td>\n",
       "                        <td id=\"T_86b73c10_29d8_11ec_b8fe_020136343133row12_col1\" class=\"data row12 col1\" >Default series</td>\n",
       "                        <td id=\"T_86b73c10_29d8_11ec_b8fe_020136343133row12_col2\" class=\"data row12 col2\" >13</td>\n",
       "                        <td id=\"T_86b73c10_29d8_11ec_b8fe_020136343133row12_col3\" class=\"data row12 col3\" >#8c613c</td>\n",
       "                        <td id=\"T_86b73c10_29d8_11ec_b8fe_020136343133row12_col4\" class=\"data row12 col4\" >13</td>\n",
       "            </tr>\n",
       "            <tr>\n",
       "                        <th id=\"T_86b73c10_29d8_11ec_b8fe_020136343133level0_row13\" class=\"row_heading level0 row13\" >13</th>\n",
       "                        <td id=\"T_86b73c10_29d8_11ec_b8fe_020136343133row13_col0\" class=\"data row13 col0\" >Hypo_fault_W</td>\n",
       "                        <td id=\"T_86b73c10_29d8_11ec_b8fe_020136343133row13_col1\" class=\"data row13 col1\" >Default series</td>\n",
       "                        <td id=\"T_86b73c10_29d8_11ec_b8fe_020136343133row13_col2\" class=\"data row13 col2\" >14</td>\n",
       "                        <td id=\"T_86b73c10_29d8_11ec_b8fe_020136343133row13_col3\" class=\"data row13 col3\" >#dc7ec0</td>\n",
       "                        <td id=\"T_86b73c10_29d8_11ec_b8fe_020136343133row13_col4\" class=\"data row13 col4\" >14</td>\n",
       "            </tr>\n",
       "            <tr>\n",
       "                        <th id=\"T_86b73c10_29d8_11ec_b8fe_020136343133level0_row14\" class=\"row_heading level0 row14\" >14</th>\n",
       "                        <td id=\"T_86b73c10_29d8_11ec_b8fe_020136343133row14_col0\" class=\"data row14 col0\" >Urella_South</td>\n",
       "                        <td id=\"T_86b73c10_29d8_11ec_b8fe_020136343133row14_col1\" class=\"data row14 col1\" >Default series</td>\n",
       "                        <td id=\"T_86b73c10_29d8_11ec_b8fe_020136343133row14_col2\" class=\"data row14 col2\" >15</td>\n",
       "                        <td id=\"T_86b73c10_29d8_11ec_b8fe_020136343133row14_col3\" class=\"data row14 col3\" >#797979</td>\n",
       "                        <td id=\"T_86b73c10_29d8_11ec_b8fe_020136343133row14_col4\" class=\"data row14 col4\" >15</td>\n",
       "            </tr>\n",
       "            <tr>\n",
       "                        <th id=\"T_86b73c10_29d8_11ec_b8fe_020136343133level0_row15\" class=\"row_heading level0 row15\" >15</th>\n",
       "                        <td id=\"T_86b73c10_29d8_11ec_b8fe_020136343133row15_col0\" class=\"data row15 col0\" >Abrolhos_Transfer</td>\n",
       "                        <td id=\"T_86b73c10_29d8_11ec_b8fe_020136343133row15_col1\" class=\"data row15 col1\" >Default series</td>\n",
       "                        <td id=\"T_86b73c10_29d8_11ec_b8fe_020136343133row15_col2\" class=\"data row15 col2\" >16</td>\n",
       "                        <td id=\"T_86b73c10_29d8_11ec_b8fe_020136343133row15_col3\" class=\"data row15 col3\" >#d5bb67</td>\n",
       "                        <td id=\"T_86b73c10_29d8_11ec_b8fe_020136343133row15_col4\" class=\"data row15 col4\" >16</td>\n",
       "            </tr>\n",
       "            <tr>\n",
       "                        <th id=\"T_86b73c10_29d8_11ec_b8fe_020136343133level0_row16\" class=\"row_heading level0 row16\" >16</th>\n",
       "                        <td id=\"T_86b73c10_29d8_11ec_b8fe_020136343133row16_col0\" class=\"data row16 col0\" >basement</td>\n",
       "                        <td id=\"T_86b73c10_29d8_11ec_b8fe_020136343133row16_col1\" class=\"data row16 col1\" >Basement</td>\n",
       "                        <td id=\"T_86b73c10_29d8_11ec_b8fe_020136343133row16_col2\" class=\"data row16 col2\" >1</td>\n",
       "                        <td id=\"T_86b73c10_29d8_11ec_b8fe_020136343133row16_col3\" class=\"data row16 col3\" >#82c6e2</td>\n",
       "                        <td id=\"T_86b73c10_29d8_11ec_b8fe_020136343133row16_col4\" class=\"data row16 col4\" >17</td>\n",
       "            </tr>\n",
       "    </tbody></table>"
      ],
      "text/plain": [
       "              surface          series  order_surfaces    color  id\n",
       "0             Lesueur  Default series               1  #015482   1\n",
       "1             Permian  Default series               2  #9f0052   2\n",
       "2    Woodada_Kockatea  Default series               3  #ffbe00   3\n",
       "3          Yarragadee  Default series               4  #728f02   4\n",
       "4             Eneabba  Default series               5  #443988   5\n",
       "5          Cattamarra  Default series               6  #ff3f20   6\n",
       "6               Cadda  Default series               7  #5DA629   7\n",
       "7          Cretaceous  Default series               8  #4878d0   8\n",
       "8             Darling  Default series               9  #ee854a   9\n",
       "9        Urella_North  Default series              10  #6acc64  10\n",
       "10      Eneabba_South  Default series              11  #d65f5f  11\n",
       "11           Coomallo  Default series              12  #956cb4  12\n",
       "12       Hypo_fault_E  Default series              13  #8c613c  13\n",
       "13       Hypo_fault_W  Default series              14  #dc7ec0  14\n",
       "14       Urella_South  Default series              15  #797979  15\n",
       "15  Abrolhos_Transfer  Default series              16  #d5bb67  16\n",
       "16           basement        Basement               1  #82c6e2  17"
      ]
     },
     "execution_count": 5,
     "metadata": {},
     "output_type": "execute_result"
    }
   ],
   "source": [
    "geo_model.surfaces"
   ]
  },
  {
   "cell_type": "code",
   "execution_count": 6,
   "metadata": {},
   "outputs": [],
   "source": [
    "del_surfaces = ['Cadda' ,'Woodada_Kockatea', 'Cattamarra','Abrolhos_Transfer',\n",
    "                             'Hypo_fault_W',\n",
    "                           'Hypo_fault_E',\n",
    "                           'Coomallo',\n",
    "                           'Eneabba_South',\n",
    "                            'Urella_North',\n",
    "                           'Urella_South',\n",
    "                            'Darling']"
   ]
  },
  {
   "cell_type": "code",
   "execution_count": 7,
   "metadata": {},
   "outputs": [
    {
     "data": {
      "text/html": [
       "<style  type=\"text/css\" >\n",
       "    #T_8badb89e_29d8_11ec_90c3_020136343133row0_col3 {\n",
       "            background-color:  #015482;\n",
       "        }    #T_8badb89e_29d8_11ec_90c3_020136343133row1_col3 {\n",
       "            background-color:  #9f0052;\n",
       "        }    #T_8badb89e_29d8_11ec_90c3_020136343133row2_col3 {\n",
       "            background-color:  #728f02;\n",
       "        }    #T_8badb89e_29d8_11ec_90c3_020136343133row3_col3 {\n",
       "            background-color:  #443988;\n",
       "        }    #T_8badb89e_29d8_11ec_90c3_020136343133row4_col3 {\n",
       "            background-color:  #4878d0;\n",
       "        }    #T_8badb89e_29d8_11ec_90c3_020136343133row5_col3 {\n",
       "            background-color:  #82c6e2;\n",
       "        }</style><table id=\"T_8badb89e_29d8_11ec_90c3_020136343133\" ><thead>    <tr>        <th class=\"blank level0\" ></th>        <th class=\"col_heading level0 col0\" >surface</th>        <th class=\"col_heading level0 col1\" >series</th>        <th class=\"col_heading level0 col2\" >order_surfaces</th>        <th class=\"col_heading level0 col3\" >color</th>        <th class=\"col_heading level0 col4\" >id</th>    </tr></thead><tbody>\n",
       "                <tr>\n",
       "                        <th id=\"T_8badb89e_29d8_11ec_90c3_020136343133level0_row0\" class=\"row_heading level0 row0\" >0</th>\n",
       "                        <td id=\"T_8badb89e_29d8_11ec_90c3_020136343133row0_col0\" class=\"data row0 col0\" >Lesueur</td>\n",
       "                        <td id=\"T_8badb89e_29d8_11ec_90c3_020136343133row0_col1\" class=\"data row0 col1\" >Default series</td>\n",
       "                        <td id=\"T_8badb89e_29d8_11ec_90c3_020136343133row0_col2\" class=\"data row0 col2\" >1</td>\n",
       "                        <td id=\"T_8badb89e_29d8_11ec_90c3_020136343133row0_col3\" class=\"data row0 col3\" >#015482</td>\n",
       "                        <td id=\"T_8badb89e_29d8_11ec_90c3_020136343133row0_col4\" class=\"data row0 col4\" >1</td>\n",
       "            </tr>\n",
       "            <tr>\n",
       "                        <th id=\"T_8badb89e_29d8_11ec_90c3_020136343133level0_row1\" class=\"row_heading level0 row1\" >1</th>\n",
       "                        <td id=\"T_8badb89e_29d8_11ec_90c3_020136343133row1_col0\" class=\"data row1 col0\" >Permian</td>\n",
       "                        <td id=\"T_8badb89e_29d8_11ec_90c3_020136343133row1_col1\" class=\"data row1 col1\" >Default series</td>\n",
       "                        <td id=\"T_8badb89e_29d8_11ec_90c3_020136343133row1_col2\" class=\"data row1 col2\" >2</td>\n",
       "                        <td id=\"T_8badb89e_29d8_11ec_90c3_020136343133row1_col3\" class=\"data row1 col3\" >#9f0052</td>\n",
       "                        <td id=\"T_8badb89e_29d8_11ec_90c3_020136343133row1_col4\" class=\"data row1 col4\" >2</td>\n",
       "            </tr>\n",
       "            <tr>\n",
       "                        <th id=\"T_8badb89e_29d8_11ec_90c3_020136343133level0_row2\" class=\"row_heading level0 row2\" >3</th>\n",
       "                        <td id=\"T_8badb89e_29d8_11ec_90c3_020136343133row2_col0\" class=\"data row2 col0\" >Yarragadee</td>\n",
       "                        <td id=\"T_8badb89e_29d8_11ec_90c3_020136343133row2_col1\" class=\"data row2 col1\" >Default series</td>\n",
       "                        <td id=\"T_8badb89e_29d8_11ec_90c3_020136343133row2_col2\" class=\"data row2 col2\" >3</td>\n",
       "                        <td id=\"T_8badb89e_29d8_11ec_90c3_020136343133row2_col3\" class=\"data row2 col3\" >#728f02</td>\n",
       "                        <td id=\"T_8badb89e_29d8_11ec_90c3_020136343133row2_col4\" class=\"data row2 col4\" >3</td>\n",
       "            </tr>\n",
       "            <tr>\n",
       "                        <th id=\"T_8badb89e_29d8_11ec_90c3_020136343133level0_row3\" class=\"row_heading level0 row3\" >4</th>\n",
       "                        <td id=\"T_8badb89e_29d8_11ec_90c3_020136343133row3_col0\" class=\"data row3 col0\" >Eneabba</td>\n",
       "                        <td id=\"T_8badb89e_29d8_11ec_90c3_020136343133row3_col1\" class=\"data row3 col1\" >Default series</td>\n",
       "                        <td id=\"T_8badb89e_29d8_11ec_90c3_020136343133row3_col2\" class=\"data row3 col2\" >4</td>\n",
       "                        <td id=\"T_8badb89e_29d8_11ec_90c3_020136343133row3_col3\" class=\"data row3 col3\" >#443988</td>\n",
       "                        <td id=\"T_8badb89e_29d8_11ec_90c3_020136343133row3_col4\" class=\"data row3 col4\" >4</td>\n",
       "            </tr>\n",
       "            <tr>\n",
       "                        <th id=\"T_8badb89e_29d8_11ec_90c3_020136343133level0_row4\" class=\"row_heading level0 row4\" >7</th>\n",
       "                        <td id=\"T_8badb89e_29d8_11ec_90c3_020136343133row4_col0\" class=\"data row4 col0\" >Cretaceous</td>\n",
       "                        <td id=\"T_8badb89e_29d8_11ec_90c3_020136343133row4_col1\" class=\"data row4 col1\" >Default series</td>\n",
       "                        <td id=\"T_8badb89e_29d8_11ec_90c3_020136343133row4_col2\" class=\"data row4 col2\" >5</td>\n",
       "                        <td id=\"T_8badb89e_29d8_11ec_90c3_020136343133row4_col3\" class=\"data row4 col3\" >#4878d0</td>\n",
       "                        <td id=\"T_8badb89e_29d8_11ec_90c3_020136343133row4_col4\" class=\"data row4 col4\" >5</td>\n",
       "            </tr>\n",
       "            <tr>\n",
       "                        <th id=\"T_8badb89e_29d8_11ec_90c3_020136343133level0_row5\" class=\"row_heading level0 row5\" >16</th>\n",
       "                        <td id=\"T_8badb89e_29d8_11ec_90c3_020136343133row5_col0\" class=\"data row5 col0\" >basement</td>\n",
       "                        <td id=\"T_8badb89e_29d8_11ec_90c3_020136343133row5_col1\" class=\"data row5 col1\" >Basement</td>\n",
       "                        <td id=\"T_8badb89e_29d8_11ec_90c3_020136343133row5_col2\" class=\"data row5 col2\" >1</td>\n",
       "                        <td id=\"T_8badb89e_29d8_11ec_90c3_020136343133row5_col3\" class=\"data row5 col3\" >#82c6e2</td>\n",
       "                        <td id=\"T_8badb89e_29d8_11ec_90c3_020136343133row5_col4\" class=\"data row5 col4\" >6</td>\n",
       "            </tr>\n",
       "    </tbody></table>"
      ],
      "text/plain": [
       "       surface          series  order_surfaces    color  id\n",
       "0      Lesueur  Default series               1  #015482   1\n",
       "1      Permian  Default series               2  #9f0052   2\n",
       "3   Yarragadee  Default series               3  #728f02   3\n",
       "4      Eneabba  Default series               4  #443988   4\n",
       "7   Cretaceous  Default series               5  #4878d0   5\n",
       "16    basement        Basement               1  #82c6e2   6"
      ]
     },
     "execution_count": 7,
     "metadata": {},
     "output_type": "execute_result"
    }
   ],
   "source": [
    "geo_model.delete_surfaces(del_surfaces, remove_data=True) #'Eneabba_South','Coomallo'#'Hypo_fault_E','Hypo_fault_W',#\n",
    "#'Darling','Urella_North','Urella_South'"
   ]
  },
  {
   "cell_type": "markdown",
   "metadata": {},
   "source": [
    "%debug\n",
    "\n"
   ]
  },
  {
   "cell_type": "code",
   "execution_count": 8,
   "metadata": {},
   "outputs": [
    {
     "data": {
      "text/html": [
       "<table border=\"1\" class=\"dataframe\">\n",
       "  <thead>\n",
       "    <tr style=\"text-align: right;\">\n",
       "      <th></th>\n",
       "      <th>order_series</th>\n",
       "      <th>BottomRelation</th>\n",
       "      <th>isActive</th>\n",
       "      <th>isFault</th>\n",
       "      <th>isFinite</th>\n",
       "    </tr>\n",
       "  </thead>\n",
       "  <tbody>\n",
       "    <tr>\n",
       "      <th>Default series</th>\n",
       "      <td>1</td>\n",
       "      <td>Erosion</td>\n",
       "      <td>True</td>\n",
       "      <td>False</td>\n",
       "      <td>False</td>\n",
       "    </tr>\n",
       "    <tr>\n",
       "      <th>Basement</th>\n",
       "      <td>2</td>\n",
       "      <td>Erosion</td>\n",
       "      <td>False</td>\n",
       "      <td>False</td>\n",
       "      <td>False</td>\n",
       "    </tr>\n",
       "  </tbody>\n",
       "</table>"
      ],
      "text/plain": [
       "                order_series BottomRelation  isActive  isFault  isFinite\n",
       "Default series             1        Erosion      True    False     False\n",
       "Basement                   2        Erosion     False    False     False"
      ]
     },
     "execution_count": 8,
     "metadata": {},
     "output_type": "execute_result"
    }
   ],
   "source": [
    "geo_model.stack"
   ]
  },
  {
   "cell_type": "code",
   "execution_count": 9,
   "metadata": {},
   "outputs": [
    {
     "data": {
      "text/html": [
       "<style  type=\"text/css\" >\n",
       "    #T_8e3ca064_29d8_11ec_a60e_020136343133row0_col3 {\n",
       "            background-color:  #015482;\n",
       "        }    #T_8e3ca064_29d8_11ec_a60e_020136343133row1_col3 {\n",
       "            background-color:  #9f0052;\n",
       "        }    #T_8e3ca064_29d8_11ec_a60e_020136343133row2_col3 {\n",
       "            background-color:  #728f02;\n",
       "        }    #T_8e3ca064_29d8_11ec_a60e_020136343133row3_col3 {\n",
       "            background-color:  #443988;\n",
       "        }    #T_8e3ca064_29d8_11ec_a60e_020136343133row4_col3 {\n",
       "            background-color:  #4878d0;\n",
       "        }    #T_8e3ca064_29d8_11ec_a60e_020136343133row5_col3 {\n",
       "            background-color:  #82c6e2;\n",
       "        }</style><table id=\"T_8e3ca064_29d8_11ec_a60e_020136343133\" ><thead>    <tr>        <th class=\"blank level0\" ></th>        <th class=\"col_heading level0 col0\" >surface</th>        <th class=\"col_heading level0 col1\" >series</th>        <th class=\"col_heading level0 col2\" >order_surfaces</th>        <th class=\"col_heading level0 col3\" >color</th>        <th class=\"col_heading level0 col4\" >id</th>    </tr></thead><tbody>\n",
       "                <tr>\n",
       "                        <th id=\"T_8e3ca064_29d8_11ec_a60e_020136343133level0_row0\" class=\"row_heading level0 row0\" >0</th>\n",
       "                        <td id=\"T_8e3ca064_29d8_11ec_a60e_020136343133row0_col0\" class=\"data row0 col0\" >Lesueur</td>\n",
       "                        <td id=\"T_8e3ca064_29d8_11ec_a60e_020136343133row0_col1\" class=\"data row0 col1\" >Sedimentary_Series</td>\n",
       "                        <td id=\"T_8e3ca064_29d8_11ec_a60e_020136343133row0_col2\" class=\"data row0 col2\" >1</td>\n",
       "                        <td id=\"T_8e3ca064_29d8_11ec_a60e_020136343133row0_col3\" class=\"data row0 col3\" >#015482</td>\n",
       "                        <td id=\"T_8e3ca064_29d8_11ec_a60e_020136343133row0_col4\" class=\"data row0 col4\" >1</td>\n",
       "            </tr>\n",
       "            <tr>\n",
       "                        <th id=\"T_8e3ca064_29d8_11ec_a60e_020136343133level0_row1\" class=\"row_heading level0 row1\" >1</th>\n",
       "                        <td id=\"T_8e3ca064_29d8_11ec_a60e_020136343133row1_col0\" class=\"data row1 col0\" >Permian</td>\n",
       "                        <td id=\"T_8e3ca064_29d8_11ec_a60e_020136343133row1_col1\" class=\"data row1 col1\" >Sedimentary_Series</td>\n",
       "                        <td id=\"T_8e3ca064_29d8_11ec_a60e_020136343133row1_col2\" class=\"data row1 col2\" >2</td>\n",
       "                        <td id=\"T_8e3ca064_29d8_11ec_a60e_020136343133row1_col3\" class=\"data row1 col3\" >#9f0052</td>\n",
       "                        <td id=\"T_8e3ca064_29d8_11ec_a60e_020136343133row1_col4\" class=\"data row1 col4\" >2</td>\n",
       "            </tr>\n",
       "            <tr>\n",
       "                        <th id=\"T_8e3ca064_29d8_11ec_a60e_020136343133level0_row2\" class=\"row_heading level0 row2\" >3</th>\n",
       "                        <td id=\"T_8e3ca064_29d8_11ec_a60e_020136343133row2_col0\" class=\"data row2 col0\" >Yarragadee</td>\n",
       "                        <td id=\"T_8e3ca064_29d8_11ec_a60e_020136343133row2_col1\" class=\"data row2 col1\" >Sedimentary_Series</td>\n",
       "                        <td id=\"T_8e3ca064_29d8_11ec_a60e_020136343133row2_col2\" class=\"data row2 col2\" >3</td>\n",
       "                        <td id=\"T_8e3ca064_29d8_11ec_a60e_020136343133row2_col3\" class=\"data row2 col3\" >#728f02</td>\n",
       "                        <td id=\"T_8e3ca064_29d8_11ec_a60e_020136343133row2_col4\" class=\"data row2 col4\" >3</td>\n",
       "            </tr>\n",
       "            <tr>\n",
       "                        <th id=\"T_8e3ca064_29d8_11ec_a60e_020136343133level0_row3\" class=\"row_heading level0 row3\" >4</th>\n",
       "                        <td id=\"T_8e3ca064_29d8_11ec_a60e_020136343133row3_col0\" class=\"data row3 col0\" >Eneabba</td>\n",
       "                        <td id=\"T_8e3ca064_29d8_11ec_a60e_020136343133row3_col1\" class=\"data row3 col1\" >Sedimentary_Series</td>\n",
       "                        <td id=\"T_8e3ca064_29d8_11ec_a60e_020136343133row3_col2\" class=\"data row3 col2\" >4</td>\n",
       "                        <td id=\"T_8e3ca064_29d8_11ec_a60e_020136343133row3_col3\" class=\"data row3 col3\" >#443988</td>\n",
       "                        <td id=\"T_8e3ca064_29d8_11ec_a60e_020136343133row3_col4\" class=\"data row3 col4\" >4</td>\n",
       "            </tr>\n",
       "            <tr>\n",
       "                        <th id=\"T_8e3ca064_29d8_11ec_a60e_020136343133level0_row4\" class=\"row_heading level0 row4\" >7</th>\n",
       "                        <td id=\"T_8e3ca064_29d8_11ec_a60e_020136343133row4_col0\" class=\"data row4 col0\" >Cretaceous</td>\n",
       "                        <td id=\"T_8e3ca064_29d8_11ec_a60e_020136343133row4_col1\" class=\"data row4 col1\" >Sedimentary_Series</td>\n",
       "                        <td id=\"T_8e3ca064_29d8_11ec_a60e_020136343133row4_col2\" class=\"data row4 col2\" >5</td>\n",
       "                        <td id=\"T_8e3ca064_29d8_11ec_a60e_020136343133row4_col3\" class=\"data row4 col3\" >#4878d0</td>\n",
       "                        <td id=\"T_8e3ca064_29d8_11ec_a60e_020136343133row4_col4\" class=\"data row4 col4\" >5</td>\n",
       "            </tr>\n",
       "            <tr>\n",
       "                        <th id=\"T_8e3ca064_29d8_11ec_a60e_020136343133level0_row5\" class=\"row_heading level0 row5\" >16</th>\n",
       "                        <td id=\"T_8e3ca064_29d8_11ec_a60e_020136343133row5_col0\" class=\"data row5 col0\" >basement</td>\n",
       "                        <td id=\"T_8e3ca064_29d8_11ec_a60e_020136343133row5_col1\" class=\"data row5 col1\" >Basement</td>\n",
       "                        <td id=\"T_8e3ca064_29d8_11ec_a60e_020136343133row5_col2\" class=\"data row5 col2\" >1</td>\n",
       "                        <td id=\"T_8e3ca064_29d8_11ec_a60e_020136343133row5_col3\" class=\"data row5 col3\" >#82c6e2</td>\n",
       "                        <td id=\"T_8e3ca064_29d8_11ec_a60e_020136343133row5_col4\" class=\"data row5 col4\" >6</td>\n",
       "            </tr>\n",
       "    </tbody></table>"
      ],
      "text/plain": [
       "       surface              series  order_surfaces    color  id\n",
       "0      Lesueur  Sedimentary_Series               1  #015482   1\n",
       "1      Permian  Sedimentary_Series               2  #9f0052   2\n",
       "3   Yarragadee  Sedimentary_Series               3  #728f02   3\n",
       "4      Eneabba  Sedimentary_Series               4  #443988   4\n",
       "7   Cretaceous  Sedimentary_Series               5  #4878d0   5\n",
       "16    basement            Basement               1  #82c6e2   6"
      ]
     },
     "execution_count": 9,
     "metadata": {},
     "output_type": "execute_result"
    }
   ],
   "source": [
    "gp.map_stack_to_surfaces(geo_model,\n",
    "                          {\n",
    "                         \"Sedimentary_Series\": ['Cretaceous',\n",
    "                                                  'Yarragadee',\n",
    "                                                  'Eneabba',\n",
    "                                                  'Lesueur',\n",
    "                                                  'Permian','Cadda', 'Woodada_Kockatea', 'Cattamarra']\n",
    "                           })"
   ]
  },
  {
   "cell_type": "code",
   "execution_count": 10,
   "metadata": {},
   "outputs": [
    {
     "data": {
      "text/html": [
       "<table border=\"1\" class=\"dataframe\">\n",
       "  <thead>\n",
       "    <tr style=\"text-align: right;\">\n",
       "      <th></th>\n",
       "      <th>order_series</th>\n",
       "      <th>BottomRelation</th>\n",
       "      <th>isActive</th>\n",
       "      <th>isFault</th>\n",
       "      <th>isFinite</th>\n",
       "    </tr>\n",
       "  </thead>\n",
       "  <tbody>\n",
       "    <tr>\n",
       "      <th>Sedimentary_Series</th>\n",
       "      <td>1</td>\n",
       "      <td>Erosion</td>\n",
       "      <td>True</td>\n",
       "      <td>False</td>\n",
       "      <td>False</td>\n",
       "    </tr>\n",
       "    <tr>\n",
       "      <th>Basement</th>\n",
       "      <td>2</td>\n",
       "      <td>Erosion</td>\n",
       "      <td>False</td>\n",
       "      <td>False</td>\n",
       "      <td>False</td>\n",
       "    </tr>\n",
       "  </tbody>\n",
       "</table>"
      ],
      "text/plain": [
       "                    order_series BottomRelation  isActive  isFault  isFinite\n",
       "Sedimentary_Series             1        Erosion      True    False     False\n",
       "Basement                       2        Erosion     False    False     False"
      ]
     },
     "execution_count": 10,
     "metadata": {},
     "output_type": "execute_result"
    }
   ],
   "source": [
    "geo_model.series"
   ]
  },
  {
   "cell_type": "code",
   "execution_count": 11,
   "metadata": {},
   "outputs": [
    {
     "data": {
      "text/html": [
       "<table border=\"1\" class=\"dataframe\">\n",
       "  <thead>\n",
       "    <tr style=\"text-align: right;\">\n",
       "      <th></th>\n",
       "      <th>order_series</th>\n",
       "      <th>BottomRelation</th>\n",
       "      <th>isActive</th>\n",
       "      <th>isFault</th>\n",
       "      <th>isFinite</th>\n",
       "    </tr>\n",
       "  </thead>\n",
       "  <tbody>\n",
       "    <tr>\n",
       "      <th>Sedimentary_Series</th>\n",
       "      <td>1</td>\n",
       "      <td>Erosion</td>\n",
       "      <td>True</td>\n",
       "      <td>False</td>\n",
       "      <td>False</td>\n",
       "    </tr>\n",
       "    <tr>\n",
       "      <th>Basement</th>\n",
       "      <td>2</td>\n",
       "      <td>Erosion</td>\n",
       "      <td>False</td>\n",
       "      <td>False</td>\n",
       "      <td>False</td>\n",
       "    </tr>\n",
       "  </tbody>\n",
       "</table>"
      ],
      "text/plain": [
       "                    order_series BottomRelation  isActive  isFault  isFinite\n",
       "Sedimentary_Series             1        Erosion      True    False     False\n",
       "Basement                       2        Erosion     False    False     False"
      ]
     },
     "execution_count": 11,
     "metadata": {},
     "output_type": "execute_result"
    }
   ],
   "source": [
    "order_series = [\"Sedimentary_Series\", 'Basement' ]\n",
    "\n",
    "geo_model.reorder_series(order_series)"
   ]
  },
  {
   "cell_type": "markdown",
   "metadata": {},
   "source": [
    "Drop input data from the deleted series:\n",
    "\n",
    "\n"
   ]
  },
  {
   "cell_type": "code",
   "execution_count": 12,
   "metadata": {},
   "outputs": [],
   "source": [
    "geo_model.surface_points.df.dropna(inplace=True)\n",
    "geo_model.orientations.df.dropna(inplace=True)"
   ]
  },
  {
   "cell_type": "markdown",
   "metadata": {},
   "source": [
    "## Select which series are faults\n",
    "\n",
    "\n"
   ]
  },
  {
   "cell_type": "code",
   "execution_count": null,
   "metadata": {},
   "outputs": [],
   "source": [
    "geo_model.faults"
   ]
  },
  {
   "cell_type": "code",
   "execution_count": null,
   "metadata": {},
   "outputs": [],
   "source": [
    "geo_model.set_is_fault([ \"fault_Abrolhos_Transfer\" ])"
   ]
  },
  {
   "cell_type": "markdown",
   "metadata": {},
   "source": [
    "### Fault Network\n",
    "\n",
    "\n"
   ]
  },
  {
   "cell_type": "code",
   "execution_count": null,
   "metadata": {},
   "outputs": [],
   "source": [
    "geo_model.faults.faults_relations_df"
   ]
  },
  {
   "cell_type": "code",
   "execution_count": null,
   "metadata": {},
   "outputs": [],
   "source": [
    "fr = geo_model.faults.faults_relations_df.values"
   ]
  },
  {
   "cell_type": "code",
   "execution_count": null,
   "metadata": {},
   "outputs": [],
   "source": [
    "fr[:,:-2] = False\n",
    "fr"
   ]
  },
  {
   "cell_type": "code",
   "execution_count": null,
   "metadata": {},
   "outputs": [],
   "source": [
    "geo_model.set_fault_relation(fr)"
   ]
  },
  {
   "cell_type": "markdown",
   "metadata": {},
   "source": [
    "%matplotlib inline\n",
    "\n"
   ]
  },
  {
   "cell_type": "code",
   "execution_count": null,
   "metadata": {},
   "outputs": [],
   "source": [
    "gp.plot_2d(geo_model, direction=['z'])"
   ]
  },
  {
   "cell_type": "code",
   "execution_count": null,
   "metadata": {},
   "outputs": [],
   "source": [
    "geo_model.set_topography(source='random')"
   ]
  },
  {
   "cell_type": "code",
   "execution_count": 13,
   "metadata": {},
   "outputs": [
    {
     "data": {
      "text/plain": [
       "<gempy.plot.vista.GemPyToVista at 0x193c2513b48>"
      ]
     },
     "execution_count": 13,
     "metadata": {},
     "output_type": "execute_result"
    }
   ],
   "source": [
    "gp.plot_3d(geo_model)"
   ]
  },
  {
   "cell_type": "code",
   "execution_count": 14,
   "metadata": {},
   "outputs": [
    {
     "name": "stdout",
     "output_type": "stream",
     "text": [
      "Setting kriging parameters to their default values.\n",
      "Compiling theano function...\n",
      "Level of Optimization:  fast_run\n",
      "Device:  cpu\n",
      "Precision:  float32\n",
      "Number of faults:  0\n",
      "Compilation Done!\n",
      "Kriging values: \n",
      "                       values\n",
      "range                96072.9\n",
      "$C_o$            2.19762e+08\n",
      "drift equations       [3, 3]\n"
     ]
    }
   ],
   "source": [
    "interp_data = gp.set_interpolator(geo_model,\n",
    "                                  compile_theano=True,\n",
    "                                  theano_optimizer='fast_run', gradient=False,\n",
    "                                  dtype='float32')"
   ]
  },
  {
   "cell_type": "code",
   "execution_count": 15,
   "metadata": {},
   "outputs": [
    {
     "name": "stderr",
     "output_type": "stream",
     "text": [
      "C:\\Users\\ASUS\\AppData\\Local\\conda\\conda\\envs\\tf\\lib\\site-packages\\theano\\tensor\\slinalg.py:255: LinAlgWarning: Ill-conditioned matrix (rcond=1.1665e-10): result may not be accurate.\n",
      "  rval = scipy.linalg.solve(A, b)\n"
     ]
    },
    {
     "data": {
      "text/plain": [
       "\n",
       "Lithology ids \n",
       "  [6. 6. 6. ... 5. 5. 5.] "
      ]
     },
     "execution_count": 15,
     "metadata": {},
     "output_type": "execute_result"
    }
   ],
   "source": [
    "gp.compute_model(geo_model)"
   ]
  },
  {
   "cell_type": "code",
   "execution_count": null,
   "metadata": {},
   "outputs": [],
   "source": [
    "\n",
    "gp.plot_2d(geo_model, cell_number=[25])"
   ]
  },
  {
   "cell_type": "code",
   "execution_count": null,
   "metadata": {},
   "outputs": [],
   "source": [
    "gp.plot_2d(geo_model, cell_number=[25], series_n=-1, show_scalar=True)"
   ]
  },
  {
   "cell_type": "code",
   "execution_count": null,
   "metadata": {},
   "outputs": [],
   "source": [
    "gp.plot_2d(geo_model, cell_number=[12], direction=[\"y\"], show_data=True, show_topography=True)"
   ]
  },
  {
   "cell_type": "markdown",
   "metadata": {},
   "source": [
    "sphinx_gallery_thumbnail_number = 6\n",
    "\n"
   ]
  },
  {
   "cell_type": "code",
   "execution_count": null,
   "metadata": {},
   "outputs": [],
   "source": [
    "gp.plot_3d(geo_model, show_topography=True)"
   ]
  },
  {
   "cell_type": "markdown",
   "metadata": {},
   "source": [
    "### Times\n",
    "\n",
    "#### Fast run\n",
    "\n",
    "-  1M voxels:\n",
    "\n",
    "   -  CPU: intel® Core™ i7-7700HQ CPU @ 2.80GHz × 8 15 s ± 1.02 s per\n",
    "      loop (mean ± std. dev. of 7 runs, 1 loop each)\n",
    "   -  GPU (4gb) not enough memmory\n",
    "   -  Ceres 1M voxels 2080 851 ms\n",
    "\n",
    "-  250k voxels\n",
    "\n",
    "   -  GPU 1050Ti: 3.11 s ± 11.8 ms per loop (mean ± std. dev. of 7 runs,\n",
    "      1 loop each)\n",
    "   -  CPU: intel® Core™ i7-7700HQ CPU @ 2.80GHz × 8 2.27 s ± 47.3 ms\n",
    "   -  \n",
    "\n",
    "#### Fast Compile\n",
    "\n",
    "-  250k voxels\n",
    "\n",
    "   -  GPU 1050Ti: 3.7 s ± 11.8 ms per loop (mean ± std. dev. of 7 runs,\n",
    "      1 loop each)\n",
    "   -  CPU: intel® Core™ i7-7700HQ CPU @ 2.80GHz × 8 14.2 s ± 51.1 ms per\n",
    "      loop (mean ± std. dev. of 7 runs, 1 loop each)\n",
    "\n",
    "\n"
   ]
  },
  {
   "cell_type": "markdown",
   "metadata": {},
   "source": [
    "%%timeit\n",
    "gp.compute_model(geo_model)\n",
    "\n"
   ]
  },
  {
   "cell_type": "markdown",
   "metadata": {},
   "source": [
    "ver = np.load('ver.npy')\n",
    "sim = np.load('sim.npy')\n",
    "lith_block = np.load('lith.npy')\n",
    "\n"
   ]
  },
  {
   "cell_type": "code",
   "execution_count": null,
   "metadata": {},
   "outputs": [],
   "source": [
    "gp.save_model(geo_model)"
   ]
  },
  {
   "cell_type": "code",
   "execution_count": null,
   "metadata": {},
   "outputs": [],
   "source": [
    "import pickle"
   ]
  },
  {
   "cell_type": "code",
   "execution_count": null,
   "metadata": {},
   "outputs": [],
   "source": [
    "an_obj = Model_4\n",
    "\n",
    "\n",
    "file_to_store = open(\"stored_object_3.pickle\", \"wb\")\n",
    "pickle.dump(an_obj, file_to_store)\n",
    "\n",
    "\n",
    "file_to_store.close()"
   ]
  },
  {
   "cell_type": "code",
   "execution_count": null,
   "metadata": {},
   "outputs": [],
   "source": []
  }
 ],
 "metadata": {
  "kernelspec": {
   "display_name": "Python 3",
   "language": "python",
   "name": "python3"
  },
  "language_info": {
   "codemirror_mode": {
    "name": "ipython",
    "version": 3
   },
   "file_extension": ".py",
   "mimetype": "text/x-python",
   "name": "python",
   "nbconvert_exporter": "python",
   "pygments_lexer": "ipython3",
   "version": "3.7.7"
  }
 },
 "nbformat": 4,
 "nbformat_minor": 1
}
